{
  "nbformat": 4,
  "nbformat_minor": 0,
  "metadata": {
    "colab": {
      "name": "20210704NNDay2CCNテスト.ipynb",
      "provenance": [],
      "collapsed_sections": [],
      "mount_file_id": "1X222oh4R7BJOrOZ9qOpBZ0EBFql3lGir",
      "authorship_tag": "ABX9TyMWLUxIHR7QVv1RAXa7z2jW",
      "include_colab_link": true
    },
    "kernelspec": {
      "name": "python3",
      "display_name": "Python 3"
    },
    "language_info": {
      "name": "python"
    }
  },
  "cells": [
    {
      "cell_type": "markdown",
      "metadata": {
        "id": "view-in-github",
        "colab_type": "text"
      },
      "source": [
        "<a href=\"https://colab.research.google.com/github/MasahitoKatsuki/RabbitChallenge/blob/main/20210704NNDay2CCN%E3%83%86%E3%82%B9%E3%83%88.ipynb\" target=\"_parent\"><img src=\"https://colab.research.google.com/assets/colab-badge.svg\" alt=\"Open In Colab\"/></a>"
      ]
    },
    {
      "cell_type": "markdown",
      "metadata": {
        "id": "wrOnJ742kxCZ"
      },
      "source": [
        "サイズ6×6の入力画像を、サイズ2×2のフィルタで畳み込んだ時の出力画像のサイズを答えよ。なおストライドとパディングは１とする。\n",
        "\n",
        "6x6の画像の周りに1つずつpaddingするわけだから、8x8の画像となる。\n",
        "ストライドは１なので１個ずつ飛ばしで2x2のフィルタで切り取って畳み込んでいく。\n",
        "なので、数えて、7x7の画像が出力される。\n",
        "\n",
        "公式を使えば\n",
        "\n",
        "{(高さ(幅)＋パディング*2-フィルタ高さ(幅))/ストライド}+1\n",
        "\n",
        "高さ=(6 + 2 -2)/1 + 1 = 7\n",
        "\n",
        "幅=(6 + 2 -2)/1 + 1 = 7\n",
        "\n",
        "⇒7×7サイズの画像が得られる"
      ]
    }
  ]
}