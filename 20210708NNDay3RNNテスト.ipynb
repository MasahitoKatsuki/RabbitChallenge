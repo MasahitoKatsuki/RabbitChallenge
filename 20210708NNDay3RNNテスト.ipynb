{
  "nbformat": 4,
  "nbformat_minor": 0,
  "metadata": {
    "colab": {
      "name": "20210708NNDay3RNNテスト.ipynb",
      "provenance": [],
      "collapsed_sections": [],
      "mount_file_id": "1X222oh4R7BJOrOZ9qOpBZ0EBFql3lGir",
      "authorship_tag": "ABX9TyMQyiiRP1UkHdks4ZaXIESD",
      "include_colab_link": true
    },
    "kernelspec": {
      "name": "python3",
      "display_name": "Python 3"
    },
    "language_info": {
      "name": "python"
    }
  },
  "cells": [
    {
      "cell_type": "markdown",
      "metadata": {
        "id": "view-in-github",
        "colab_type": "text"
      },
      "source": [
        "<a href=\"https://colab.research.google.com/github/MasahitoKatsuki/RabbitChallenge/blob/main/20210708NNDay3RNN%E3%83%86%E3%82%B9%E3%83%88.ipynb\" target=\"_parent\"><img src=\"https://colab.research.google.com/assets/colab-badge.svg\" alt=\"Open In Colab\"/></a>"
      ]
    },
    {
      "cell_type": "code",
      "metadata": {
        "id": "ccZqKWz0wJb9"
      },
      "source": [
        "#テスト１\n",
        "#RNNのネットワークには大きくわけて3つの重みがある。1つは入力から現在の中間層を定義する際にかけられる重み、1つは中間層から出力を定義する際にかけられる重みである。残り1つの重みについて説明せよ。#\n",
        "#解答：中間層から中間層へ至るところの重み。前の中間層からの重み。"
      ],
      "execution_count": null,
      "outputs": []
    },
    {
      "cell_type": "code",
      "metadata": {
        "id": "qVKBiTQd3bw1"
      },
      "source": [
        "#テスト2　連鎖率の原理を用いてdz/dxを求める\n",
        "#解答\n",
        "#z = (x + y)^2\n",
        "#t = x + y\n",
        "#z = t^2\n",
        "#dz/dt = 2t\n",
        "#dt/dx = 1\n",
        "#dz/dx = dz/dt * dt/dz = 2t * 1 = 2(x + y)\n",
        "\n",
        "\n"
      ],
      "execution_count": 1,
      "outputs": []
    },
    {
      "cell_type": "code",
      "metadata": {
        "id": "FDmWuY_s4izl"
      },
      "source": [
        "#テスト3　図のy1を数式(x0, z0, z1, w(in), w, w(out))を用いて表わせ。シグモイド関数はg(x)とする。\n",
        "\n",
        "#y1 = g(w(out)*z1 + c) cはバイアス\n",
        "#z1 = f(w(in)*x1 + w*z0 + b)　ｂはバイアス"
      ],
      "execution_count": null,
      "outputs": []
    }
  ]
}