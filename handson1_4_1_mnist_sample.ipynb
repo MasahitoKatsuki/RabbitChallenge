{
  "nbformat": 4,
  "nbformat_minor": 0,
  "metadata": {
    "kernelspec": {
      "display_name": "Python 3",
      "language": "python",
      "name": "python3"
    },
    "language_info": {
      "codemirror_mode": {
        "name": "ipython",
        "version": 3
      },
      "file_extension": ".py",
      "mimetype": "text/x-python",
      "name": "python",
      "nbconvert_exporter": "python",
      "pygments_lexer": "ipython3",
      "version": "3.6.3"
    },
    "colab": {
      "name": "1_4_1_mnist_sample.ipynb",
      "provenance": [],
      "collapsed_sections": [],
      "toc_visible": true,
      "include_colab_link": true
    }
  },
  "cells": [
    {
      "cell_type": "markdown",
      "metadata": {
        "id": "view-in-github",
        "colab_type": "text"
      },
      "source": [
        "<a href=\"https://colab.research.google.com/github/MasahitoKatsuki/RabbitChallenge/blob/main/handson1_4_1_mnist_sample.ipynb\" target=\"_parent\"><img src=\"https://colab.research.google.com/assets/colab-badge.svg\" alt=\"Open In Colab\"/></a>"
      ]
    },
    {
      "cell_type": "markdown",
      "metadata": {
        "id": "8cNl2QA_Rnv5"
      },
      "source": [
        "# 準備"
      ]
    },
    {
      "cell_type": "markdown",
      "metadata": {
        "id": "YkwjN1jNVAYy"
      },
      "source": [
        "## Googleドライブのマウント"
      ]
    },
    {
      "cell_type": "code",
      "metadata": {
        "id": "pvFXpiH3EVC1",
        "colab": {
          "base_uri": "https://localhost:8080/"
        },
        "outputId": "cda75c5a-613a-42fa-8f87-cc5de5f0a209"
      },
      "source": [
        "from google.colab import drive\n",
        "drive.mount('/content/drive')"
      ],
      "execution_count": 1,
      "outputs": [
        {
          "output_type": "stream",
          "text": [
            "Mounted at /content/drive\n"
          ],
          "name": "stdout"
        }
      ]
    },
    {
      "cell_type": "markdown",
      "metadata": {
        "id": "3Ub7RYdeY6pK"
      },
      "source": [
        "## sys.pathの設定"
      ]
    },
    {
      "cell_type": "markdown",
      "metadata": {
        "id": "oql7L19rEsWi"
      },
      "source": [
        "以下では，Googleドライブのマイドライブ直下にDNN_codeフォルダを置くことを仮定しています．必要に応じて，パスを変更してください．"
      ]
    },
    {
      "cell_type": "code",
      "metadata": {
        "id": "7Ic2JzkvFX59"
      },
      "source": [
        "import sys\n",
        "sys.path.append('/content/drive/My Drive/DNN_code')"
      ],
      "execution_count": 2,
      "outputs": []
    },
    {
      "cell_type": "markdown",
      "metadata": {
        "id": "ToUJok-EiuLx"
      },
      "source": [
        "# minst"
      ]
    },
    {
      "cell_type": "code",
      "metadata": {
        "id": "AMva1WVaintz",
        "colab": {
          "base_uri": "https://localhost:8080/",
          "height": 1000
        },
        "outputId": "3afb0499-f804-488a-cf35-f05dfb5fac0c"
      },
      "source": [
        "import numpy as np\n",
        "from data.mnist import load_mnist\n",
        "import pickle\n",
        "from common import functions\n",
        "import matplotlib.pyplot as plt\n",
        "\n",
        "# mnistをロード\n",
        "(x_train, d_train), (x_test, d_test) = load_mnist(normalize=True, one_hot_label=True)\n",
        "train_size = len(x_train)\n",
        "\n",
        "print(\"データ読み込み完了\")\n",
        "\n",
        "# 重み初期値補正係数\n",
        "wieght_init = 0.01 # 変更してみよう\n",
        "#入力層サイズ\n",
        "input_layer_size = 784 # 変更してみよう\n",
        "#中間層サイズ\n",
        "hidden_layer_size = 40 # 変更してみよう\n",
        "#出力層サイズ\n",
        "output_layer_size = 10 # 変更してみよう\n",
        "# 繰り返し数\n",
        "iters_num = 1000 # 変更してみよう\n",
        "# ミニバッチサイズ\n",
        "batch_size = 100 # 変更してみよ\n",
        "# 学習率\n",
        "learning_rate = 0.1 # 変更してみよう\n",
        "# 描写頻度\n",
        "plot_interval=10\n",
        "\n",
        "# 初期設定\n",
        "def init_network():\n",
        "    network = {} \n",
        "    network['W1'] = wieght_init * np.random.randn(input_layer_size, hidden_layer_size)\n",
        "    network['W2'] = wieght_init * np.random.randn(hidden_layer_size, output_layer_size)\n",
        "    # 試してみよう_Xavierの初期値\n",
        "    # network['W1'] = np.random.randn(input_layer_size, hidden_layer_size) / np.sqrt(input_layer_size)\n",
        "    # network['W2'] = np.random.randn(hidden_layer_size, output_layer_size) / np.sqrt(hidden_layer_size)\n",
        "    # 試してみよう Heの初期値\n",
        "    # network['W1'] = np.random.randn(input_layer_size, hidden_layer_size) / np.sqrt(input_layer_size) * np.sqrt(2)\n",
        "    # network['W2'] = np.random.randn(hidden_layer_size, output_layer_size) / np.sqrt(hidden_layer_size) * np.sqrt(2)\n",
        "\n",
        "    network['b1'] = np.zeros(hidden_layer_size)\n",
        "    network['b2'] = np.zeros(output_layer_size)\n",
        "\n",
        "    return network\n",
        "\n",
        "# 順伝播\n",
        "def forward(network, x):\n",
        "    W1, W2 = network['W1'], network['W2']\n",
        "    b1, b2  = network['b1'], network['b2']\n",
        "        \n",
        "    u1 =  np.dot(x, W1) + b1\n",
        "    z1 = functions.relu(u1)\n",
        "    u2 =  np.dot(z1, W2) + b2\n",
        "    y = functions.softmax(u2)\n",
        " \n",
        "    return z1, y\n",
        "\n",
        "# 誤差逆伝播\n",
        "def backward(x, d, z1, y):\n",
        "    grad = {}\n",
        "    \n",
        "    W1, W2 = network['W1'], network['W2']\n",
        "    b1, b2 = network['b1'], network['b2']    \n",
        "    # 出力層でのデルタ\n",
        "    delta2 = functions.d_softmax_with_loss(d, y)\n",
        "    # b2の勾配\n",
        "    grad['b2'] = np.sum(delta2, axis=0)\n",
        "    # W2の勾配\n",
        "    grad['W2'] = np.dot(z1.T, delta2)\n",
        "    # 1層でのデルタ\n",
        "    delta1 = np.dot(delta2, W2.T) * functions.d_relu(z1)\n",
        "    # b1の勾配\n",
        "    grad['b1'] = np.sum(delta1, axis=0)\n",
        "    # W1の勾配\n",
        "    grad['W1'] = np.dot(x.T, delta1)\n",
        "\n",
        "    return grad\n",
        "\n",
        "# パラメータの初期化\n",
        "network = init_network()\n",
        "\n",
        "\n",
        "accuracies_train = []\n",
        "accuracies_test = []\n",
        "\n",
        "# 正答率\n",
        "def accuracy(x, d):\n",
        "    z1, y = forward(network, x)\n",
        "    y = np.argmax(y, axis=1)\n",
        "    if d.ndim != 1 : d = np.argmax(d, axis=1)\n",
        "    accuracy = np.sum(y == d) / float(x.shape[0])\n",
        "    return accuracy\n",
        "\n",
        "for i in range(iters_num):\n",
        "    # ランダムにバッチを取得    \n",
        "    batch_mask = np.random.choice(train_size, batch_size)\n",
        "    # ミニバッチに対応する教師訓練画像データを取得    \n",
        "    x_batch = x_train[batch_mask]\n",
        "    # ミニバッチに対応する訓練正解ラベルデータを取得する\n",
        "    d_batch = d_train[batch_mask]\n",
        "\n",
        "\n",
        "    \n",
        "    z1, y = forward(network, x_batch)\n",
        "    grad = backward(x_batch, d_batch, z1, y)\n",
        "\n",
        "    if (i+1)%plot_interval==0:\n",
        "        accr_test = accuracy(x_test, d_test)\n",
        "        accuracies_test.append(accr_test)\n",
        "        \n",
        "        accr_train = accuracy(x_batch, d_batch)\n",
        "        accuracies_train.append(accr_train)\n",
        "\n",
        "        print('Generation: ' + str(i+1) + '. 正答率(トレーニング) = ' + str(accr_train))\n",
        "        print('                : ' + str(i+1) + '. 正答率(テスト) = ' + str(accr_test))\n",
        "\n",
        "    # パラメータに勾配適用\n",
        "    for key in ('W1', 'W2', 'b1', 'b2'):\n",
        "        network[key]  -= learning_rate * grad[key]\n",
        "\n",
        "\n",
        "lists = range(0, iters_num, plot_interval)\n",
        "plt.plot(lists, accuracies_train, label=\"training set\")\n",
        "plt.plot(lists, accuracies_test,  label=\"test set\")\n",
        "plt.legend(loc=\"lower right\")\n",
        "plt.title(\"正答率\")\n",
        "# グラフの表示\n",
        "plt.show()"
      ],
      "execution_count": 3,
      "outputs": [
        {
          "output_type": "stream",
          "text": [
            "データ読み込み完了\n",
            "Generation: 10. 正答率(トレーニング) = 0.15\n",
            "                : 10. 正答率(テスト) = 0.1474\n",
            "Generation: 20. 正答率(トレーニング) = 0.28\n",
            "                : 20. 正答率(テスト) = 0.2908\n",
            "Generation: 30. 正答率(トレーニング) = 0.42\n",
            "                : 30. 正答率(テスト) = 0.402\n",
            "Generation: 40. 正答率(トレーニング) = 0.46\n",
            "                : 40. 正答率(テスト) = 0.4269\n",
            "Generation: 50. 正答率(トレーニング) = 0.47\n",
            "                : 50. 正答率(テスト) = 0.4586\n",
            "Generation: 60. 正答率(トレーニング) = 0.47\n",
            "                : 60. 正答率(テスト) = 0.4574\n",
            "Generation: 70. 正答率(トレーニング) = 0.55\n",
            "                : 70. 正答率(テスト) = 0.5854\n",
            "Generation: 80. 正答率(トレーニング) = 0.59\n",
            "                : 80. 正答率(テスト) = 0.6151\n",
            "Generation: 90. 正答率(トレーニング) = 0.6\n",
            "                : 90. 正答率(テスト) = 0.6364\n",
            "Generation: 100. 正答率(トレーニング) = 0.67\n",
            "                : 100. 正答率(テスト) = 0.7193\n",
            "Generation: 110. 正答率(トレーニング) = 0.74\n",
            "                : 110. 正答率(テスト) = 0.7431\n",
            "Generation: 120. 正答率(トレーニング) = 0.73\n",
            "                : 120. 正答率(テスト) = 0.7496\n",
            "Generation: 130. 正答率(トレーニング) = 0.76\n",
            "                : 130. 正答率(テスト) = 0.7624\n",
            "Generation: 140. 正答率(トレーニング) = 0.78\n",
            "                : 140. 正答率(テスト) = 0.773\n",
            "Generation: 150. 正答率(トレーニング) = 0.83\n",
            "                : 150. 正答率(テスト) = 0.8104\n",
            "Generation: 160. 正答率(トレーニング) = 0.78\n",
            "                : 160. 正答率(テスト) = 0.8148\n",
            "Generation: 170. 正答率(トレーニング) = 0.8\n",
            "                : 170. 正答率(テスト) = 0.8367\n",
            "Generation: 180. 正答率(トレーニング) = 0.89\n",
            "                : 180. 正答率(テスト) = 0.8431\n",
            "Generation: 190. 正答率(トレーニング) = 0.88\n",
            "                : 190. 正答率(テスト) = 0.8426\n",
            "Generation: 200. 正答率(トレーニング) = 0.87\n",
            "                : 200. 正答率(テスト) = 0.8424\n",
            "Generation: 210. 正答率(トレーニング) = 0.9\n",
            "                : 210. 正答率(テスト) = 0.8554\n",
            "Generation: 220. 正答率(トレーニング) = 0.86\n",
            "                : 220. 正答率(テスト) = 0.8604\n",
            "Generation: 230. 正答率(トレーニング) = 0.88\n",
            "                : 230. 正答率(テスト) = 0.8609\n",
            "Generation: 240. 正答率(トレーニング) = 0.88\n",
            "                : 240. 正答率(テスト) = 0.8679\n",
            "Generation: 250. 正答率(トレーニング) = 0.9\n",
            "                : 250. 正答率(テスト) = 0.8728\n",
            "Generation: 260. 正答率(トレーニング) = 0.85\n",
            "                : 260. 正答率(テスト) = 0.8698\n",
            "Generation: 270. 正答率(トレーニング) = 0.82\n",
            "                : 270. 正答率(テスト) = 0.8739\n",
            "Generation: 280. 正答率(トレーニング) = 0.86\n",
            "                : 280. 正答率(テスト) = 0.8775\n",
            "Generation: 290. 正答率(トレーニング) = 0.83\n",
            "                : 290. 正答率(テスト) = 0.8822\n",
            "Generation: 300. 正答率(トレーニング) = 0.86\n",
            "                : 300. 正答率(テスト) = 0.8825\n",
            "Generation: 310. 正答率(トレーニング) = 0.81\n",
            "                : 310. 正答率(テスト) = 0.8815\n",
            "Generation: 320. 正答率(トレーニング) = 0.87\n",
            "                : 320. 正答率(テスト) = 0.8804\n",
            "Generation: 330. 正答率(トレーニング) = 0.91\n",
            "                : 330. 正答率(テスト) = 0.8867\n",
            "Generation: 340. 正答率(トレーニング) = 0.84\n",
            "                : 340. 正答率(テスト) = 0.889\n",
            "Generation: 350. 正答率(トレーニング) = 0.92\n",
            "                : 350. 正答率(テスト) = 0.8856\n",
            "Generation: 360. 正答率(トレーニング) = 0.88\n",
            "                : 360. 正答率(テスト) = 0.8924\n",
            "Generation: 370. 正答率(トレーニング) = 0.89\n",
            "                : 370. 正答率(テスト) = 0.8944\n",
            "Generation: 380. 正答率(トレーニング) = 0.91\n",
            "                : 380. 正答率(テスト) = 0.8833\n",
            "Generation: 390. 正答率(トレーニング) = 0.83\n",
            "                : 390. 正答率(テスト) = 0.8909\n",
            "Generation: 400. 正答率(トレーニング) = 0.91\n",
            "                : 400. 正答率(テスト) = 0.8973\n",
            "Generation: 410. 正答率(トレーニング) = 0.9\n",
            "                : 410. 正答率(テスト) = 0.8942\n",
            "Generation: 420. 正答率(トレーニング) = 0.92\n",
            "                : 420. 正答率(テスト) = 0.8972\n",
            "Generation: 430. 正答率(トレーニング) = 0.88\n",
            "                : 430. 正答率(テスト) = 0.8976\n",
            "Generation: 440. 正答率(トレーニング) = 0.89\n",
            "                : 440. 正答率(テスト) = 0.9008\n",
            "Generation: 450. 正答率(トレーニング) = 0.92\n",
            "                : 450. 正答率(テスト) = 0.8985\n",
            "Generation: 460. 正答率(トレーニング) = 0.86\n",
            "                : 460. 正答率(テスト) = 0.902\n",
            "Generation: 470. 正答率(トレーニング) = 0.85\n",
            "                : 470. 正答率(テスト) = 0.9002\n",
            "Generation: 480. 正答率(トレーニング) = 0.93\n",
            "                : 480. 正答率(テスト) = 0.902\n",
            "Generation: 490. 正答率(トレーニング) = 0.81\n",
            "                : 490. 正答率(テスト) = 0.9024\n",
            "Generation: 500. 正答率(トレーニング) = 0.92\n",
            "                : 500. 正答率(テスト) = 0.9023\n",
            "Generation: 510. 正答率(トレーニング) = 0.87\n",
            "                : 510. 正答率(テスト) = 0.9031\n",
            "Generation: 520. 正答率(トレーニング) = 0.88\n",
            "                : 520. 正答率(テスト) = 0.8996\n",
            "Generation: 530. 正答率(トレーニング) = 0.9\n",
            "                : 530. 正答率(テスト) = 0.9067\n",
            "Generation: 540. 正答率(トレーニング) = 0.91\n",
            "                : 540. 正答率(テスト) = 0.9053\n",
            "Generation: 550. 正答率(トレーニング) = 0.93\n",
            "                : 550. 正答率(テスト) = 0.9024\n",
            "Generation: 560. 正答率(トレーニング) = 0.91\n",
            "                : 560. 正答率(テスト) = 0.9065\n",
            "Generation: 570. 正答率(トレーニング) = 0.94\n",
            "                : 570. 正答率(テスト) = 0.9047\n",
            "Generation: 580. 正答率(トレーニング) = 0.88\n",
            "                : 580. 正答率(テスト) = 0.9067\n",
            "Generation: 590. 正答率(トレーニング) = 0.92\n",
            "                : 590. 正答率(テスト) = 0.9069\n",
            "Generation: 600. 正答率(トレーニング) = 0.95\n",
            "                : 600. 正答率(テスト) = 0.9067\n",
            "Generation: 610. 正答率(トレーニング) = 0.92\n",
            "                : 610. 正答率(テスト) = 0.9037\n",
            "Generation: 620. 正答率(トレーニング) = 0.88\n",
            "                : 620. 正答率(テスト) = 0.9024\n",
            "Generation: 630. 正答率(トレーニング) = 0.89\n",
            "                : 630. 正答率(テスト) = 0.9095\n",
            "Generation: 640. 正答率(トレーニング) = 0.92\n",
            "                : 640. 正答率(テスト) = 0.9109\n",
            "Generation: 650. 正答率(トレーニング) = 0.91\n",
            "                : 650. 正答率(テスト) = 0.91\n",
            "Generation: 660. 正答率(トレーニング) = 0.94\n",
            "                : 660. 正答率(テスト) = 0.9083\n",
            "Generation: 670. 正答率(トレーニング) = 0.91\n",
            "                : 670. 正答率(テスト) = 0.9072\n",
            "Generation: 680. 正答率(トレーニング) = 0.95\n",
            "                : 680. 正答率(テスト) = 0.9119\n",
            "Generation: 690. 正答率(トレーニング) = 0.92\n",
            "                : 690. 正答率(テスト) = 0.9086\n",
            "Generation: 700. 正答率(トレーニング) = 0.91\n",
            "                : 700. 正答率(テスト) = 0.9054\n",
            "Generation: 710. 正答率(トレーニング) = 0.9\n",
            "                : 710. 正答率(テスト) = 0.9083\n",
            "Generation: 720. 正答率(トレーニング) = 0.91\n",
            "                : 720. 正答率(テスト) = 0.9123\n",
            "Generation: 730. 正答率(トレーニング) = 0.91\n",
            "                : 730. 正答率(テスト) = 0.9146\n",
            "Generation: 740. 正答率(トレーニング) = 0.92\n",
            "                : 740. 正答率(テスト) = 0.9092\n",
            "Generation: 750. 正答率(トレーニング) = 0.88\n",
            "                : 750. 正答率(テスト) = 0.9142\n",
            "Generation: 760. 正答率(トレーニング) = 0.92\n",
            "                : 760. 正答率(テスト) = 0.9115\n",
            "Generation: 770. 正答率(トレーニング) = 0.92\n",
            "                : 770. 正答率(テスト) = 0.9109\n",
            "Generation: 780. 正答率(トレーニング) = 0.9\n",
            "                : 780. 正答率(テスト) = 0.9146\n",
            "Generation: 790. 正答率(トレーニング) = 0.91\n",
            "                : 790. 正答率(テスト) = 0.9125\n",
            "Generation: 800. 正答率(トレーニング) = 0.96\n",
            "                : 800. 正答率(テスト) = 0.9149\n",
            "Generation: 810. 正答率(トレーニング) = 0.93\n",
            "                : 810. 正答率(テスト) = 0.9144\n",
            "Generation: 820. 正答率(トレーニング) = 0.93\n",
            "                : 820. 正答率(テスト) = 0.9161\n",
            "Generation: 830. 正答率(トレーニング) = 0.9\n",
            "                : 830. 正答率(テスト) = 0.918\n",
            "Generation: 840. 正答率(トレーニング) = 0.88\n",
            "                : 840. 正答率(テスト) = 0.914\n",
            "Generation: 850. 正答率(トレーニング) = 0.86\n",
            "                : 850. 正答率(テスト) = 0.914\n",
            "Generation: 860. 正答率(トレーニング) = 0.9\n",
            "                : 860. 正答率(テスト) = 0.9198\n",
            "Generation: 870. 正答率(トレーニング) = 0.93\n",
            "                : 870. 正答率(テスト) = 0.9189\n",
            "Generation: 880. 正答率(トレーニング) = 0.91\n",
            "                : 880. 正答率(テスト) = 0.9192\n",
            "Generation: 890. 正答率(トレーニング) = 0.95\n",
            "                : 890. 正答率(テスト) = 0.9182\n",
            "Generation: 900. 正答率(トレーニング) = 0.9\n",
            "                : 900. 正答率(テスト) = 0.9161\n",
            "Generation: 910. 正答率(トレーニング) = 0.86\n",
            "                : 910. 正答率(テスト) = 0.9184\n",
            "Generation: 920. 正答率(トレーニング) = 0.91\n",
            "                : 920. 正答率(テスト) = 0.919\n",
            "Generation: 930. 正答率(トレーニング) = 0.92\n",
            "                : 930. 正答率(テスト) = 0.9205\n",
            "Generation: 940. 正答率(トレーニング) = 0.92\n",
            "                : 940. 正答率(テスト) = 0.9167\n",
            "Generation: 950. 正答率(トレーニング) = 0.88\n",
            "                : 950. 正答率(テスト) = 0.9175\n",
            "Generation: 960. 正答率(トレーニング) = 0.87\n",
            "                : 960. 正答率(テスト) = 0.9173\n",
            "Generation: 970. 正答率(トレーニング) = 0.89\n",
            "                : 970. 正答率(テスト) = 0.9165\n",
            "Generation: 980. 正答率(トレーニング) = 0.91\n",
            "                : 980. 正答率(テスト) = 0.9155\n",
            "Generation: 990. 正答率(トレーニング) = 0.89\n",
            "                : 990. 正答率(テスト) = 0.9166\n",
            "Generation: 1000. 正答率(トレーニング) = 0.86\n",
            "                : 1000. 正答率(テスト) = 0.9182\n"
          ],
          "name": "stdout"
        },
        {
          "output_type": "stream",
          "text": [
            "/usr/local/lib/python3.7/dist-packages/matplotlib/backends/backend_agg.py:214: RuntimeWarning: Glyph 27491 missing from current font.\n",
            "  font.set_text(s, 0.0, flags=flags)\n",
            "/usr/local/lib/python3.7/dist-packages/matplotlib/backends/backend_agg.py:214: RuntimeWarning: Glyph 31572 missing from current font.\n",
            "  font.set_text(s, 0.0, flags=flags)\n",
            "/usr/local/lib/python3.7/dist-packages/matplotlib/backends/backend_agg.py:214: RuntimeWarning: Glyph 29575 missing from current font.\n",
            "  font.set_text(s, 0.0, flags=flags)\n",
            "/usr/local/lib/python3.7/dist-packages/matplotlib/backends/backend_agg.py:183: RuntimeWarning: Glyph 27491 missing from current font.\n",
            "  font.set_text(s, 0, flags=flags)\n",
            "/usr/local/lib/python3.7/dist-packages/matplotlib/backends/backend_agg.py:183: RuntimeWarning: Glyph 31572 missing from current font.\n",
            "  font.set_text(s, 0, flags=flags)\n",
            "/usr/local/lib/python3.7/dist-packages/matplotlib/backends/backend_agg.py:183: RuntimeWarning: Glyph 29575 missing from current font.\n",
            "  font.set_text(s, 0, flags=flags)\n"
          ],
          "name": "stderr"
        },
        {
          "output_type": "display_data",
          "data": {
            "image/png": "[encoded data removed]",
            "text/plain": [
              "<Figure size 432x288 with 1 Axes>"
            ]
          },
          "metadata": {
            "tags": [],
            "needs_background": "light"
          }
        }
      ]
    },
    {
      "cell_type": "code",
      "metadata": {
        "id": "1Yqykojyint3"
      },
      "source": [
        ""
      ],
      "execution_count": 3,
      "outputs": []
    }
  ]
}