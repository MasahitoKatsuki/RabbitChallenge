{
  "nbformat": 4,
  "nbformat_minor": 0,
  "metadata": {
    "kernelspec": {
      "name": "python3",
      "display_name": "Python 3"
    },
    "language_info": {
      "codemirror_mode": {
        "name": "ipython",
        "version": 3
      },
      "file_extension": ".py",
      "mimetype": "text/x-python",
      "name": "python",
      "nbconvert_exporter": "python",
      "pygments_lexer": "ipython3",
      "version": "3.6.3"
    },
    "colab": {
      "name": "2_7_double_comvolution_network.ipynb",
      "provenance": [],
      "collapsed_sections": [],
      "toc_visible": true,
      "include_colab_link": true
    },
    "accelerator": "GPU"
  },
  "cells": [
    {
      "cell_type": "markdown",
      "metadata": {
        "id": "view-in-github",
        "colab_type": "text"
      },
      "source": [
        "<a href=\"https://colab.research.google.com/github/MasahitoKatsuki/RabbitChallenge/blob/main/2_7_double_comvolution_network.ipynb\" target=\"_parent\"><img src=\"https://colab.research.google.com/assets/colab-badge.svg\" alt=\"Open In Colab\"/></a>"
      ]
    },
    {
      "cell_type": "markdown",
      "metadata": {
        "id": "8cNl2QA_Rnv5"
      },
      "source": [
        "# 準備"
      ]
    },
    {
      "cell_type": "markdown",
      "metadata": {
        "id": "YkwjN1jNVAYy"
      },
      "source": [
        "## Googleドライブのマウント"
      ]
    },
    {
      "cell_type": "code",
      "metadata": {
        "id": "pvFXpiH3EVC1",
        "colab": {
          "base_uri": "https://localhost:8080/"
        },
        "outputId": "220c25c5-0a1d-4556-939d-e57b3cd112dd"
      },
      "source": [
        "from google.colab import drive\n",
        "drive.mount('/content/drive')"
      ],
      "execution_count": 31,
      "outputs": [
        {
          "output_type": "stream",
          "text": [
            "Drive already mounted at /content/drive; to attempt to forcibly remount, call drive.mount(\"/content/drive\", force_remount=True).\n"
          ],
          "name": "stdout"
        }
      ]
    },
    {
      "cell_type": "markdown",
      "metadata": {
        "id": "3Ub7RYdeY6pK"
      },
      "source": [
        "## sys.pathの設定"
      ]
    },
    {
      "cell_type": "markdown",
      "metadata": {
        "id": "oql7L19rEsWi"
      },
      "source": [
        "以下では，Googleドライブのマイドライブ直下にDNN_codeフォルダを置くことを仮定しています．必要に応じて，パスを変更してください．"
      ]
    },
    {
      "cell_type": "code",
      "metadata": {
        "id": "7Ic2JzkvFX59"
      },
      "source": [
        "import sys\n",
        "sys.path.append('/content/drive/My Drive/DNN_code')"
      ],
      "execution_count": 32,
      "outputs": []
    },
    {
      "cell_type": "markdown",
      "metadata": {
        "id": "zJaxY5vv92Ne"
      },
      "source": [
        "# double_comvolution_network"
      ]
    },
    {
      "cell_type": "code",
      "metadata": {
        "id": "5BH9xs6o92Ng"
      },
      "source": [
        "import pickle\n",
        "import numpy as np\n",
        "from collections import OrderedDict\n",
        "from common import layers\n",
        "from common import optimizer\n",
        "from data.mnist import load_mnist\n",
        "import matplotlib.pyplot as plt\n",
        "\n",
        "class DoubleConvNet:\n",
        "    # conv - relu - pool - conv - relu - pool - affine - relu - affine - softmax\n",
        "    def __init__(self, input_dim=(1, 28, 28),\n",
        "                 conv_param_1={'filter_num':10, 'filter_size':7, 'pad':1, 'stride':1},\n",
        "                 conv_param_2={'filter_num':20, 'filter_size':3, 'pad':1, 'stride':1},\n",
        "                 hidden_size=100, output_size=10, weight_init_std=0.01):\n",
        "        conv_output_size_1 = (input_dim[1] - conv_param_1['filter_size'] + 2 * conv_param_1['pad']) / conv_param_1['stride'] + 1\n",
        "        conv_output_size_2 = (conv_output_size_1 / 2 - conv_param_2['filter_size'] + 2 * conv_param_2['pad']) / conv_param_2['stride'] + 1        \n",
        "        pool_output_size = int(conv_param_2['filter_num'] * (conv_output_size_2 / 2) * (conv_output_size_2 / 2))        \n",
        "        # 重みの初期化\n",
        "        self.params = {}\n",
        "        self.params['W1'] = weight_init_std * np.random.randn(conv_param_1['filter_num'], input_dim[0], conv_param_1['filter_size'], conv_param_1['filter_size'])\n",
        "        self.params['b1'] = np.zeros(conv_param_1['filter_num'])\n",
        "        self.params['W2'] = weight_init_std * np.random.randn(conv_param_2['filter_num'], conv_param_1['filter_num'], conv_param_2['filter_size'], conv_param_2['filter_size'])\n",
        "        self.params['b2'] = np.zeros(conv_param_2['filter_num'])\n",
        "        self.params['W3'] = weight_init_std * np.random.randn(pool_output_size, hidden_size)\n",
        "        self.params['b3'] = np.zeros(hidden_size)\n",
        "        self.params['W4'] = weight_init_std * np.random.randn(hidden_size, output_size)\n",
        "        self.params['b4'] = np.zeros(output_size)\n",
        "        # レイヤの生成\n",
        "        self.layers = OrderedDict()\n",
        "        self.layers['Conv1'] = layers.Convolution(self.params['W1'], self.params['b1'], conv_param_1['stride'], conv_param_1['pad'])\n",
        "        self.layers['Relu1'] = layers.Relu()\n",
        "        self.layers['Pool1'] = layers.Pooling(pool_h=2, pool_w=2, stride=2)\n",
        "        self.layers['Conv2'] = layers.Convolution(self.params['W2'], self.params['b2'], conv_param_2['stride'], conv_param_2['pad'])\n",
        "        self.layers['Relu2'] = layers.Relu()\n",
        "        self.layers['Pool2'] = layers.Pooling(pool_h=2, pool_w=2, stride=2)\n",
        "        self.layers['Affine1'] = layers.Affine(self.params['W3'], self.params['b3'])\n",
        "        self.layers['Relu3'] = layers.Relu()\n",
        "        self.layers['Affine2'] = layers.Affine(self.params['W4'], self.params['b4'])\n",
        "        self.last_layer = layers.SoftmaxWithLoss()\n",
        "\n",
        "    def predict(self, x):\n",
        "        for key in self.layers.keys():\n",
        "            x = self.layers[key].forward(x)\n",
        "        return x\n",
        "        \n",
        "    def loss(self, x, d):\n",
        "        y = self.predict(x)\n",
        "        return self.last_layer.forward(y, d)\n",
        "\n",
        "    def accuracy(self, x, d, batch_size=100):\n",
        "        if d.ndim != 1 : d = np.argmax(d, axis=1)\n",
        "        \n",
        "        acc = 0.0\n",
        "        \n",
        "        for i in range(int(x.shape[0] / batch_size)):\n",
        "            tx = x[i*batch_size:(i+1)*batch_size]\n",
        "            td = d[i*batch_size:(i+1)*batch_size]\n",
        "            y = self.predict(tx)\n",
        "            y = np.argmax(y, axis=1)\n",
        "            acc += np.sum(y == td) \n",
        "        \n",
        "        return acc / x.shape[0]\n",
        "\n",
        "    def gradient(self, x, d):\n",
        "        # forward\n",
        "        self.loss(x, d)\n",
        "        \n",
        "        # backward\n",
        "        dout = 1\n",
        "        dout = self.last_layer.backward(dout)\n",
        "        layers = list(self.layers.values())\n",
        "        \n",
        "        layers.reverse()\n",
        "        for layer in layers:\n",
        "            dout = layer.backward(dout)\n",
        "\n",
        "        # 設定\n",
        "        grad = {}\n",
        "        grad['W1'], grad['b1'] = self.layers['Conv1'].dW, self.layers['Conv1'].db\n",
        "        grad['W2'], grad['b2'] = self.layers['Conv2'].dW, self.layers['Conv2'].db        \n",
        "        grad['W3'], grad['b3'] = self.layers['Affine1'].dW, self.layers['Affine1'].db\n",
        "        grad['W4'], grad['b4'] = self.layers['Affine2'].dW, self.layers['Affine2'].db\n",
        "\n",
        "        return grad"
      ],
      "execution_count": 33,
      "outputs": []
    },
    {
      "cell_type": "code",
      "metadata": {
        "id": "rPtHykqj92Nk",
        "colab": {
          "base_uri": "https://localhost:8080/",
          "height": 668
        },
        "outputId": "74cfa8a8-c5f7-484a-f55b-0f814f7a90a4"
      },
      "source": [
        "# データの読み込み\n",
        "(x_train, d_train), (x_test, d_test) = load_mnist(flatten=False)\n",
        "\n",
        "print(\"データ読み込み完了\")\n",
        "# 処理に時間のかかる場合はデータを削減 \n",
        "x_train, d_train = x_train[:5000], d_train[:5000]\n",
        "x_test, d_test = x_test[:1000], d_test[:1000]\n",
        "\n",
        "\n",
        "network = DoubleConvNet(input_dim=(1,28,28), \n",
        "                          conv_param_1={'filter_num':10, 'filter_size':7, 'pad':1, 'stride':1},\n",
        "                          conv_param_2={'filter_num':20, 'filter_size':3, 'pad':1, 'stride':1},\n",
        "                          hidden_size=100, output_size=10, weight_init_std=0.01)\n",
        "\n",
        "optimizer = optimizer.Adam()\n",
        "\n",
        "# 時間がかかるため100に設定\n",
        "iters_num = 100\n",
        "# iters_num = 1000\n",
        "train_size = x_train.shape[0]\n",
        "batch_size = 100\n",
        "\n",
        "train_loss_list = []\n",
        "accuracies_train = []\n",
        "accuracies_test = []\n",
        "\n",
        "plot_interval=10\n",
        "\n",
        "\n",
        "\n",
        "for i in range(iters_num):\n",
        "    batch_mask = np.random.choice(train_size, batch_size)\n",
        "    x_batch = x_train[batch_mask]\n",
        "    d_batch = d_train[batch_mask]\n",
        "    \n",
        "    grad = network.gradient(x_batch, d_batch)\n",
        "    optimizer.update(network.params, grad)\n",
        "    loss = network.loss(x_batch, d_batch)\n",
        "    train_loss_list.append(loss)\n",
        "\n",
        "    if (i+1) % plot_interval == 0:\n",
        "        accr_train = network.accuracy(x_train, d_train)\n",
        "        accr_test = network.accuracy(x_test, d_test)\n",
        "        accuracies_train.append(accr_train)\n",
        "        accuracies_test.append(accr_test)\n",
        "        \n",
        "        print('Generation: ' + str(i+1) + '. 正答率(トレーニング) = ' + str(accr_train))\n",
        "        print('                : ' + str(i+1) + '. 正答率(テスト) = ' + str(accr_test))               \n",
        "\n",
        "lists = range(0, iters_num, plot_interval)\n",
        "plt.plot(lists, accuracies_train, label=\"training set\")\n",
        "plt.plot(lists, accuracies_test,  label=\"test set\")\n",
        "plt.legend(loc=\"lower right\")\n",
        "plt.title(\"accuracy\")\n",
        "plt.xlabel(\"count\")\n",
        "plt.ylabel(\"accuracy\")\n",
        "plt.ylim(0, 1.0)\n",
        "# グラフの表示\n",
        "plt.show()"
      ],
      "execution_count": 34,
      "outputs": [
        {
          "output_type": "stream",
          "text": [
            "データ読み込み完了\n",
            "Generation: 10. 正答率(トレーニング) = 0.1988\n",
            "                : 10. 正答率(テスト) = 0.164\n",
            "Generation: 20. 正答率(トレーニング) = 0.1822\n",
            "                : 20. 正答率(テスト) = 0.175\n",
            "Generation: 30. 正答率(トレーニング) = 0.3158\n",
            "                : 30. 正答率(テスト) = 0.317\n",
            "Generation: 40. 正答率(トレーニング) = 0.5746\n",
            "                : 40. 正答率(テスト) = 0.511\n",
            "Generation: 50. 正答率(トレーニング) = 0.6668\n",
            "                : 50. 正答率(テスト) = 0.617\n",
            "Generation: 60. 正答率(トレーニング) = 0.717\n",
            "                : 60. 正答率(テスト) = 0.683\n",
            "Generation: 70. 正答率(トレーニング) = 0.7738\n",
            "                : 70. 正答率(テスト) = 0.756\n",
            "Generation: 80. 正答率(トレーニング) = 0.7756\n",
            "                : 80. 正答率(テスト) = 0.747\n",
            "Generation: 90. 正答率(トレーニング) = 0.8102\n",
            "                : 90. 正答率(テスト) = 0.781\n",
            "Generation: 100. 正答率(トレーニング) = 0.8146\n",
            "                : 100. 正答率(テスト) = 0.777\n"
          ],
          "name": "stdout"
        },
        {
          "output_type": "display_data",
          "data": {
            "image/png": "[encoded data removed]",
            "text/plain": [
              "<Figure size 432x288 with 1 Axes>"
            ]
          },
          "metadata": {
            "tags": [],
            "needs_background": "light"
          }
        }
      ]
    },
    {
      "cell_type": "markdown",
      "metadata": {
        "id": "ID8VTrG292No"
      },
      "source": [
        "--------------------------------------------------------------------------------------------------------------------------------------------------------------\n",
        "## [try] DoubleConvNetをアレンジしよう\n",
        "pooling層を一つ減らしたものに変えてみよう<br>\n",
        "conv - relu - conv - relu - pool - affine - relu - affine - softmax\n",
        "\n",
        "--------------------------------------------------------------------------------------------------------------------------------------------------------------"
      ]
    },
    {
      "cell_type": "code",
      "metadata": {
        "id": "0YKi7vpwNOQC"
      },
      "source": [
        "import pickle\n",
        "import numpy as np\n",
        "from collections import OrderedDict\n",
        "from common import layers\n",
        "from common import optimizer\n",
        "from data.mnist import load_mnist\n",
        "import matplotlib.pyplot as plt\n",
        "\n",
        "class MyDoubleConvNet:\n",
        "    # conv - relu - pool - conv - relu - pool - affine - relu - affine - softmax\n",
        "    def __init__(self, input_dim=(1, 28, 28),\n",
        "                 conv_param_1={'filter_num':10, 'filter_size':7, 'pad':1, 'stride':1},\n",
        "                 conv_param_2={'filter_num':20, 'filter_size':3, 'pad':1, 'stride':1},\n",
        "                 hidden_size=100, output_size=10, weight_init_std=0.01):\n",
        "        conv_output_size_1 = (input_dim[1] - conv_param_1['filter_size'] + 2 * conv_param_1['pad']) / conv_param_1['stride'] + 1\n",
        "        conv_output_size_2 = (conv_output_size_1 / 2 - conv_param_2['filter_size'] + 2 * conv_param_2['pad']) / conv_param_2['stride'] + 1        \n",
        "        pool_output_size = int(conv_param_2['filter_num'] * (conv_output_size_2 / 2) * (conv_output_size_2 / 2))        \n",
        "        # 重みの初期化\n",
        "        self.params = {}\n",
        "        self.params['W1'] = weight_init_std * np.random.randn(conv_param_1['filter_num'], input_dim[0], conv_param_1['filter_size'], conv_param_1['filter_size'])\n",
        "        self.params['b1'] = np.zeros(conv_param_1['filter_num'])\n",
        "        self.params['W2'] = weight_init_std * np.random.randn(conv_param_2['filter_num'], conv_param_1['filter_num'], conv_param_2['filter_size'], conv_param_2['filter_size'])\n",
        "        self.params['b2'] = np.zeros(conv_param_2['filter_num'])\n",
        "        self.params['W3'] = weight_init_std * np.random.randn(pool_output_size, hidden_size)\n",
        "        self.params['b3'] = np.zeros(hidden_size)\n",
        "        self.params['W4'] = weight_init_std * np.random.randn(hidden_size, output_size)\n",
        "        self.params['b4'] = np.zeros(output_size)\n",
        "        # レイヤの生成\n",
        "        self.layers = OrderedDict()\n",
        "        self.layers['Conv1'] = layers.Convolution(self.params['W1'], self.params['b1'], conv_param_1['stride'], conv_param_1['pad'])\n",
        "        self.layers['Relu1'] = layers.Relu()\n",
        "        # self.layers['Pool1'] = layers.Pooling(pool_h=2, pool_w=2, stride=2)\n",
        "        self.layers['Conv2'] = layers.Convolution(self.params['W2'], self.params['b2'], conv_param_2['stride'], conv_param_2['pad'])\n",
        "        self.layers['Relu2'] = layers.Relu()\n",
        "        self.layers['Pool2'] = layers.Pooling(pool_h=2, pool_w=2, stride=2)\n",
        "        self.layers['Affine1'] = layers.Affine(self.params['W3'], self.params['b3'])\n",
        "        self.layers['Relu3'] = layers.Relu()\n",
        "        self.layers['Affine2'] = layers.Affine(self.params['W4'], self.params['b4'])\n",
        "        self.last_layer = layers.SoftmaxWithLoss()\n",
        "\n",
        "    def predict(self, x):\n",
        "        for key in self.layers.keys():\n",
        "            x = self.layers[key].forward(x)\n",
        "        return x\n",
        "        \n",
        "    def loss(self, x, d):\n",
        "        y = self.predict(x)\n",
        "        return self.last_layer.forward(y, d)\n",
        "\n",
        "    def accuracy(self, x, d, batch_size=100):\n",
        "        if d.ndim != 1 : d = np.argmax(d, axis=1)\n",
        "        \n",
        "        acc = 0.0\n",
        "        \n",
        "        for i in range(int(x.shape[0] / batch_size)):\n",
        "            tx = x[i*batch_size:(i+1)*batch_size]\n",
        "            td = d[i*batch_size:(i+1)*batch_size]\n",
        "            y = self.predict(tx)\n",
        "            y = np.argmax(y, axis=1)\n",
        "            acc += np.sum(y == td) \n",
        "        \n",
        "        return acc / x.shape[0]\n",
        "\n",
        "    def gradient(self, x, d):\n",
        "        # forward\n",
        "        self.loss(x, d)\n",
        "        \n",
        "        # backward\n",
        "        dout = 1\n",
        "        dout = self.last_layer.backward(dout)\n",
        "        layers = list(self.layers.values())\n",
        "        \n",
        "        layers.reverse()\n",
        "        for layer in layers:\n",
        "            dout = layer.backward(dout)\n",
        "\n",
        "        # 設定\n",
        "        grad = {}\n",
        "        grad['W1'], grad['b1'] = self.layers['Conv1'].dW, self.layers['Conv1'].db\n",
        "        grad['W2'], grad['b2'] = self.layers['Conv2'].dW, self.layers['Conv2'].db        \n",
        "        grad['W3'], grad['b3'] = self.layers['Affine1'].dW, self.layers['Affine1'].db\n",
        "        grad['W4'], grad['b4'] = self.layers['Affine2'].dW, self.layers['Affine2'].db\n",
        "\n",
        "        return grad"
      ],
      "execution_count": 35,
      "outputs": []
    },
    {
      "cell_type": "code",
      "metadata": {
        "colab": {
          "base_uri": "https://localhost:8080/",
          "height": 668
        },
        "id": "On3LxlX9Mriy",
        "outputId": "fa84e5e1-dca7-4040-e487-b73c9f919c20"
      },
      "source": [
        "# データの読み込み\n",
        "(x_train, d_train), (x_test, d_test) = load_mnist(flatten=False)\n",
        "\n",
        "print(\"データ読み込み完了\")\n",
        "# 処理に時間のかかる場合はデータを削減 \n",
        "x_train, d_train = x_train[:5000], d_train[:5000]\n",
        "x_test, d_test = x_test[:1000], d_test[:1000]\n",
        "\n",
        "\n",
        "network = DoubleConvNet(input_dim=(1,28,28), \n",
        "                          conv_param_1={'filter_num':10, 'filter_size':7, 'pad':1, 'stride':1},\n",
        "                          conv_param_2={'filter_num':20, 'filter_size':3, 'pad':1, 'stride':1},\n",
        "                          hidden_size=100, output_size=10, weight_init_std=0.01)\n",
        "\n",
        "optimizer = optimizer.Adam()\n",
        "\n",
        "# 時間がかかるため100に設定\n",
        "iters_num = 100\n",
        "# iters_num = 1000\n",
        "train_size = x_train.shape[0]\n",
        "batch_size = 100\n",
        "\n",
        "train_loss_list = []\n",
        "accuracies_train = []\n",
        "accuracies_test = []\n",
        "\n",
        "plot_interval=10\n",
        "\n",
        "\n",
        "\n",
        "for i in range(iters_num):\n",
        "    batch_mask = np.random.choice(train_size, batch_size)\n",
        "    x_batch = x_train[batch_mask]\n",
        "    d_batch = d_train[batch_mask]\n",
        "    \n",
        "    grad = network.gradient(x_batch, d_batch)\n",
        "    optimizer.update(network.params, grad)\n",
        "    loss = network.loss(x_batch, d_batch)\n",
        "    train_loss_list.append(loss)\n",
        "\n",
        "    if (i+1) % plot_interval == 0:\n",
        "        accr_train = network.accuracy(x_train, d_train)\n",
        "        accr_test = network.accuracy(x_test, d_test)\n",
        "        accuracies_train.append(accr_train)\n",
        "        accuracies_test.append(accr_test)\n",
        "        \n",
        "        print('Generation: ' + str(i+1) + '. 正答率(トレーニング) = ' + str(accr_train))\n",
        "        print('                : ' + str(i+1) + '. 正答率(テスト) = ' + str(accr_test))               \n",
        "\n",
        "lists = range(0, iters_num, plot_interval)\n",
        "plt.plot(lists, accuracies_train, label=\"training set\")\n",
        "plt.plot(lists, accuracies_test,  label=\"test set\")\n",
        "plt.legend(loc=\"lower right\")\n",
        "plt.title(\"accuracy\")\n",
        "plt.xlabel(\"count\")\n",
        "plt.ylabel(\"accuracy\")\n",
        "plt.ylim(0, 1.0)\n",
        "# グラフの表示\n",
        "plt.show()"
      ],
      "execution_count": 36,
      "outputs": [
        {
          "output_type": "stream",
          "text": [
            "データ読み込み完了\n",
            "Generation: 10. 正答率(トレーニング) = 0.0988\n",
            "                : 10. 正答率(テスト) = 0.107\n",
            "Generation: 20. 正答率(トレーニング) = 0.268\n",
            "                : 20. 正答率(テスト) = 0.269\n",
            "Generation: 30. 正答率(トレーニング) = 0.3896\n",
            "                : 30. 正答率(テスト) = 0.398\n",
            "Generation: 40. 正答率(トレーニング) = 0.6226\n",
            "                : 40. 正答率(テスト) = 0.591\n",
            "Generation: 50. 正答率(トレーニング) = 0.7152\n",
            "                : 50. 正答率(テスト) = 0.655\n",
            "Generation: 60. 正答率(トレーニング) = 0.7574\n",
            "                : 60. 正答率(テスト) = 0.713\n",
            "Generation: 70. 正答率(トレーニング) = 0.781\n",
            "                : 70. 正答率(テスト) = 0.743\n",
            "Generation: 80. 正答率(トレーニング) = 0.807\n",
            "                : 80. 正答率(テスト) = 0.781\n",
            "Generation: 90. 正答率(トレーニング) = 0.8014\n",
            "                : 90. 正答率(テスト) = 0.773\n",
            "Generation: 100. 正答率(トレーニング) = 0.8294\n",
            "                : 100. 正答率(テスト) = 0.803\n"
          ],
          "name": "stdout"
        },
        {
          "output_type": "display_data",
          "data": {
            "image/png": "[encoded data removed]",
            "text/plain": [
              "<Figure size 432x288 with 1 Axes>"
            ]
          },
          "metadata": {
            "tags": [],
            "needs_background": "light"
          }
        }
      ]
    },
    {
      "cell_type": "markdown",
      "metadata": {
        "id": "r47tj0xmQAak"
      },
      "source": [
        "時間がかかった。poolingしないことで数値計算が煩雑になるのだと思われる。その分精度は少し上がった。"
      ]
    },
    {
      "cell_type": "code",
      "metadata": {
        "id": "UWPonKzvNkq-"
      },
      "source": [
        ""
      ],
      "execution_count": 36,
      "outputs": []
    }
  ]
}