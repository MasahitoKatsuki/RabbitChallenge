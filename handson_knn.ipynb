{
  "nbformat": 4,
  "nbformat_minor": 0,
  "metadata": {
    "kernelspec": {
      "name": "python3",
      "display_name": "Python 3"
    },
    "language_info": {
      "codemirror_mode": {
        "name": "ipython",
        "version": 3
      },
      "file_extension": ".py",
      "mimetype": "text/x-python",
      "name": "python",
      "nbconvert_exporter": "python",
      "pygments_lexer": "ipython3",
      "version": "3.6.5"
    },
    "colab": {
      "name": "np_knn.ipynb",
      "provenance": [],
      "collapsed_sections": [],
      "toc_visible": true,
      "include_colab_link": true
    },
    "accelerator": "GPU"
  },
  "cells": [
    {
      "cell_type": "markdown",
      "metadata": {
        "id": "view-in-github",
        "colab_type": "text"
      },
      "source": [
        "<a href=\"https://colab.research.google.com/github/MasahitoKatsuki/RabbitChallenge/blob/main/handson_knn.ipynb\" target=\"_parent\"><img src=\"https://colab.research.google.com/assets/colab-badge.svg\" alt=\"Open In Colab\"/></a>"
      ]
    },
    {
      "cell_type": "markdown",
      "metadata": {
        "id": "0G7vJ7LFGguZ"
      },
      "source": [
        "# k近傍法"
      ]
    },
    {
      "cell_type": "code",
      "metadata": {
        "id": "SOWJiKHMGgua"
      },
      "source": [
        "%matplotlib inline\n",
        "import numpy as np\n",
        "import matplotlib.pyplot as plt\n",
        "from scipy import stats"
      ],
      "execution_count": 1,
      "outputs": []
    },
    {
      "cell_type": "markdown",
      "metadata": {
        "id": "-fkddOuWGgud"
      },
      "source": [
        "## 訓練データ生成"
      ]
    },
    {
      "cell_type": "code",
      "metadata": {
        "id": "BbukYNxeGgue"
      },
      "source": [
        "#r乱数によるデータ生成\n",
        "def gen_data():\n",
        "    x0 = np.random.normal(size=50).reshape(-1, 2) - 1\n",
        "    x1 = np.random.normal(size=50).reshape(-1, 2) + 1.\n",
        "    x_train = np.concatenate([x0, x1])\n",
        "    y_train = np.concatenate([np.zeros(25), np.ones(25)]).astype(np.int)\n",
        "    return x_train, y_train"
      ],
      "execution_count": 2,
      "outputs": []
    },
    {
      "cell_type": "code",
      "metadata": {
        "id": "1e60BMXgGgug",
        "colab": {
          "base_uri": "https://localhost:8080/",
          "height": 286
        },
        "outputId": "bc6438ea-faa5-471e-971a-3cc002912858"
      },
      "source": [
        "X_train, ys_train = gen_data()\n",
        "plt.scatter(X_train[:, 0], X_train[:, 1], c=ys_train)"
      ],
      "execution_count": 3,
      "outputs": [
        {
          "output_type": "execute_result",
          "data": {
            "text/plain": [
              "<matplotlib.collections.PathCollection at 0x7f33e4094510>"
            ]
          },
          "metadata": {
            "tags": []
          },
          "execution_count": 3
        },
        {
          "output_type": "display_data",
          "data": {
            "image/png": "[encoded data removed]",
            "text/plain": [
              "<Figure size 432x288 with 1 Axes>"
            ]
          },
          "metadata": {
            "tags": [],
            "needs_background": "light"
          }
        }
      ]
    },
    {
      "cell_type": "markdown",
      "metadata": {
        "collapsed": true,
        "id": "zcWhJdzVGgui"
      },
      "source": [
        "## 学習"
      ]
    },
    {
      "cell_type": "markdown",
      "metadata": {
        "id": "wDG3d8y6Gguj"
      },
      "source": [
        "陽に訓練ステップはない"
      ]
    },
    {
      "cell_type": "markdown",
      "metadata": {
        "id": "fMlLy_YwGguk"
      },
      "source": [
        "## 予測"
      ]
    },
    {
      "cell_type": "markdown",
      "metadata": {
        "id": "glejv40HGguk"
      },
      "source": [
        "予測するデータ点との、距離が最も近い$k$個の、訓練データのラベルの最頻値を割り当てる"
      ]
    },
    {
      "cell_type": "code",
      "metadata": {
        "id": "XDj_GUggGgul"
      },
      "source": [
        "def distance(x1, x2):\n",
        "    return np.sum((x1 - x2)**2, axis=1)\n",
        "\n",
        "def knc_predict(n_neighbors, x_train, y_train, X_test):\n",
        "    y_pred = np.empty(len(X_test), dtype=y_train.dtype)\n",
        "    for i, x in enumerate(X_test):\n",
        "        distances = distance(x, X_train)\n",
        "        nearest_index = distances.argsort()[:n_neighbors]\n",
        "        mode, _ = stats.mode(y_train[nearest_index])\n",
        "        y_pred[i] = mode\n",
        "    return y_pred\n",
        "\n",
        "def plt_resut(x_train, y_train, y_pred):\n",
        "    xx0, xx1 = np.meshgrid(np.linspace(-5, 5, 100), np.linspace(-5, 5, 100))\n",
        "    xx = np.array([xx0, xx1]).reshape(2, -1).T\n",
        "    plt.scatter(x_train[:, 0], x_train[:, 1], c=y_train)\n",
        "    plt.contourf(xx0, xx1, y_pred.reshape(100, 100).astype(dtype=np.float), alpha=0.2, levels=np.linspace(0, 1, 3))"
      ],
      "execution_count": 4,
      "outputs": []
    },
    {
      "cell_type": "code",
      "metadata": {
        "id": "PuD8ITzOGgum",
        "colab": {
          "base_uri": "https://localhost:8080/",
          "height": 265
        },
        "outputId": "06b4cf2e-2bb2-427b-d222-5a1d0fa9de9b"
      },
      "source": [
        "n_neighbors = 3\n",
        "\n",
        "xx0, xx1 = np.meshgrid(np.linspace(-5, 5, 100), np.linspace(-5, 5, 100))\n",
        "X_test = np.array([xx0, xx1]).reshape(2, -1).T\n",
        "\n",
        "y_pred = knc_predict(n_neighbors, X_train, ys_train, X_test)\n",
        "plt_resut(X_train, ys_train, y_pred)"
      ],
      "execution_count": 5,
      "outputs": [
        {
          "output_type": "display_data",
          "data": {
            "image/png": "[encoded data removed]",
            "text/plain": [
              "<Figure size 432x288 with 1 Axes>"
            ]
          },
          "metadata": {
            "tags": [],
            "needs_background": "light"
          }
        }
      ]
    },
    {
      "cell_type": "markdown",
      "metadata": {
        "id": "sg3X0mnZGguo"
      },
      "source": [
        "## numpy実装"
      ]
    },
    {
      "cell_type": "code",
      "metadata": {
        "id": "i2UkN_UomVem"
      },
      "source": [
        "xx0, xx1 = np.meshgrid(np.linspace(-5, 5, 100), np.linspace(-5, 5, 100))\n",
        "xx = np.array([xx0, xx1]).reshape(2, -1).T"
      ],
      "execution_count": 6,
      "outputs": []
    },
    {
      "cell_type": "code",
      "metadata": {
        "id": "AiaA-7lyGgup",
        "colab": {
          "base_uri": "https://localhost:8080/",
          "height": 265
        },
        "outputId": "1ba5dc1e-1f7e-48c5-a525-730b6b4a7f22"
      },
      "source": [
        "from sklearn.neighbors import KNeighborsClassifier\n",
        "knc = KNeighborsClassifier(n_neighbors=n_neighbors).fit(X_train, ys_train)\n",
        "plt_resut(X_train, ys_train, knc.predict(xx))"
      ],
      "execution_count": 7,
      "outputs": [
        {
          "output_type": "display_data",
          "data": {
            "image/png": "[encoded data removed]",
            "text/plain": [
              "<Figure size 432x288 with 1 Axes>"
            ]
          },
          "metadata": {
            "tags": [],
            "needs_background": "light"
          }
        }
      ]
    }
  ]
}