{
  "nbformat": 4,
  "nbformat_minor": 0,
  "metadata": {
    "colab": {
      "name": "20210708NNDay3GRUテスト.ipynb",
      "provenance": [],
      "collapsed_sections": [],
      "mount_file_id": "1X222oh4R7BJOrOZ9qOpBZ0EBFql3lGir",
      "authorship_tag": "ABX9TyMwpL2/cDwljetqLwMOKwCf",
      "include_colab_link": true
    },
    "kernelspec": {
      "name": "python3",
      "display_name": "Python 3"
    },
    "language_info": {
      "name": "python"
    }
  },
  "cells": [
    {
      "cell_type": "markdown",
      "metadata": {
        "id": "view-in-github",
        "colab_type": "text"
      },
      "source": [
        "<a href=\"https://colab.research.google.com/github/MasahitoKatsuki/RabbitChallenge/blob/main/20210708NNDay3GRU%E3%83%86%E3%82%B9%E3%83%88.ipynb\" target=\"_parent\"><img src=\"https://colab.research.google.com/assets/colab-badge.svg\" alt=\"Open In Colab\"/></a>"
      ]
    },
    {
      "cell_type": "markdown",
      "metadata": {
        "id": "gI1XRYFuOMxK"
      },
      "source": [
        "#テスト１　LSTMとCECが抱える課題について、それぞれ簡潔に述べよ。\n",
        "\n",
        "解答：\n",
        "\n",
        "LSTMは入力ゲート、出力ゲート、忘却ゲートそしてCEC、それぞれ４つの部品を持つ事で構成されている。\n",
        "そのため、LSTMではパラメータ数が多く、計算負荷が高くなるという課題があった。\n",
        "その中にあるCECの問題点として学習能力が無い事が挙げられる。（そのために３つのゲートを周りに付け、学習機能を持たせている、というのがCECの根本的な動きになっている。）"
      ]
    },
    {
      "cell_type": "markdown",
      "metadata": {
        "id": "MhFe11yKORUH"
      },
      "source": [
        "#テスト2　LSTMとGRUの違いを簡潔に述べよ。\n",
        "\n",
        "解答：\n",
        "\n",
        "LSTMには入力ゲート、出力ゲート、忘却ゲートの３つのゲートとCECがある。\n",
        "GRUにはCECが無く更新ゲートとリセットゲートを持つ。\n",
        "\n",
        "LSTMはパラメータが多く、GRUはパラメータが少ない。\n",
        "\n",
        "結果的にLSTMよりGRUの方が計算量は少ない。"
      ]
    }
  ]
}