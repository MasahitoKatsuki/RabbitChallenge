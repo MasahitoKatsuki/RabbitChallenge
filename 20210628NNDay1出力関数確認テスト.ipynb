{
  "nbformat": 4,
  "nbformat_minor": 0,
  "metadata": {
    "colab": {
      "name": "20210628NNDay1出力関数確認テスト.ipynb",
      "provenance": [],
      "collapsed_sections": [],
      "mount_file_id": "1UFPkwKAx7GeP6BTayR5QDakXNBL9xzEO",
      "authorship_tag": "ABX9TyOx2Mq3IwNmkGjSoDebWHN1",
      "include_colab_link": true
    },
    "kernelspec": {
      "name": "python3",
      "display_name": "Python 3"
    },
    "language_info": {
      "name": "python"
    }
  },
  "cells": [
    {
      "cell_type": "markdown",
      "metadata": {
        "id": "view-in-github",
        "colab_type": "text"
      },
      "source": [
        "<a href=\"https://colab.research.google.com/github/MasahitoKatsuki/RabbitChallenge/blob/main/20210628NNDay1%E5%87%BA%E5%8A%9B%E9%96%A2%E6%95%B0%E7%A2%BA%E8%AA%8D%E3%83%86%E3%82%B9%E3%83%88.ipynb\" target=\"_parent\"><img src=\"https://colab.research.google.com/assets/colab-badge.svg\" alt=\"Open In Colab\"/></a>"
      ]
    },
    {
      "cell_type": "markdown",
      "metadata": {
        "id": "1k-xnZO4nbkV"
      },
      "source": [
        "#出力関数\n",
        "##テスト１\n",
        "①誤差関数（２乗和誤差、残差平方和）において、なぜ、引き算するのみではなく、二乗するのか述べよ\n",
        "②1/2はどういう意味を持つか述べよ\n",
        "\n",
        "\n"
      ]
    },
    {
      "cell_type": "markdown",
      "metadata": {
        "id": "SKJZrXx7nkDf"
      },
      "source": [
        "解答\n",
        "①誤差をそのまま足すと0になるため、正負に関係なく距離として考えるため、二乗和誤差とすることで表現できるから。\n",
        "\n",
        "②誤差逆伝播の計算で、誤差関数を微分してパラメータを決定していくプロセスがあるが、その際に1/2があると係数が相殺されて計算が簡単になるため。"
      ]
    },
    {
      "cell_type": "code",
      "metadata": {
        "id": "a86t3a7fF73I"
      },
      "source": [
        "#確認テスト2 ソフトマックス関数の該当する箇所のソースコードを示し、１行ずつ処理の説明をせよ\n",
        "# 出力層の活性化関数\n",
        "# ソフトマックス関数　多クラス分類\n",
        "\n",
        "def softmax(x):\n",
        "    if x.ndim == 2:\n",
        "        x = x.T\n",
        "        x = x - np.max(x, axis=0)\n",
        "        y = np.exp(x) / np.sum(np.exp(x), axis=0)\n",
        "        return y.T\n",
        "\n",
        "    x = x - np.max(x) # オーバーフロー対策\n",
        "    return np.exp(x) / np.sum(np.exp(x))\n",
        "\n",
        "    #本質①は最後の行の\n",
        "    np.exp(x) / np.sum(np.exp(x))　#であり、分子が②にあたり分母が③にあたる。各クラスの全部足し合わせたexp分の、そのクラスのexpと解釈できる。\n",
        "\n",
        "    #IF文に関しては、ソフトマックス関数内においてミニバッチとしてデータが取り扱われるときに使用される。そのときに入力されるｘベクトルの行列の形が違うので、IF文中の処理を行っている。\n"
      ],
      "execution_count": null,
      "outputs": []
    },
    {
      "cell_type": "code",
      "metadata": {
        "id": "224m-XtGrPp-"
      },
      "source": [
        "#確認テスト３　交差エントロピーの式に該当する箇所のソースコードを示し、１行ずつ処理の説明をせよ\n",
        "#回答\n",
        "\n",
        "#yには０と１が並んでおり、正解に１のラベルが立つ。\n",
        "#dとはニューラルネットがd番目が正解であろうと思った場所\n",
        "\n",
        "-np.sum(np.log(y[np.arange(batch_size), d] + 1e-7))　#①の本質はこれである。\n",
        "\n",
        "# クロスエントロピーのコード\n",
        "def cross_entropy_error(d, y):\n",
        "    if y.ndim == 1:\n",
        "        d = d.reshape(1, d.size)\n",
        "        y = y.reshape(1, y.size)\n",
        "        \n",
        "    # 教師データがone-hot-vectorの場合、正解ラベルのインデックスに変換\n",
        "    if d.size == y.size:\n",
        "        d = d.argmax(axis=1)\n",
        "             \n",
        "    batch_size = y.shape[0]\n",
        "    return -np.sum(np.log(y[np.arange(batch_size), d] + 1e-7)) / batch_size　#②は -np.sum(np.log(y[np.arange(batch_size), d]の部分である。\n",
        "    #対数関数の性質上、0に近づくと－INFに落ちてしまう。それを避けるために小さな値（1e-7）を付与している。\n"
      ],
      "execution_count": null,
      "outputs": []
    }
  ]
}