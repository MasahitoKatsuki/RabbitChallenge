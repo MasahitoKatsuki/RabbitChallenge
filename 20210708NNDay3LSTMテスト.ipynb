{
  "nbformat": 4,
  "nbformat_minor": 0,
  "metadata": {
    "colab": {
      "name": "20210708NNDay3LSTMテスト.ipynb",
      "provenance": [],
      "collapsed_sections": [],
      "mount_file_id": "1X222oh4R7BJOrOZ9qOpBZ0EBFql3lGir",
      "authorship_tag": "ABX9TyNgV6Sdo/UPNkR1Awigxms8",
      "include_colab_link": true
    },
    "kernelspec": {
      "name": "python3",
      "display_name": "Python 3"
    },
    "language_info": {
      "name": "python"
    }
  },
  "cells": [
    {
      "cell_type": "markdown",
      "metadata": {
        "id": "view-in-github",
        "colab_type": "text"
      },
      "source": [
        "<a href=\"https://colab.research.google.com/github/MasahitoKatsuki/RabbitChallenge/blob/main/20210708NNDay3LSTM%E3%83%86%E3%82%B9%E3%83%88.ipynb\" target=\"_parent\"><img src=\"https://colab.research.google.com/assets/colab-badge.svg\" alt=\"Open In Colab\"/></a>"
      ]
    },
    {
      "cell_type": "code",
      "metadata": {
        "id": "ccZqKWz0wJb9"
      },
      "source": [
        "#テスト１シグモイド関数を微分した時、入力値が0の時に最大値をとる。その値として正しいものを選択肢から選べ。\n",
        "#解答 0.25が最大値。なので２．"
      ],
      "execution_count": null,
      "outputs": []
    },
    {
      "cell_type": "code",
      "metadata": {
        "id": "qVKBiTQd3bw1"
      },
      "source": [
        "#テスト2　以下の文章をLSTMに入力し空欄に当てはまる単語を予測したいとする。\n",
        "#文中の「とても」という言葉は空欄の予測においてなくなっても影響を及ぼさないと考えられる。\n",
        "#このような場合、どのゲートが作用すると考えられるか。\n",
        "\n",
        "#「映画おもしろかったね。ところで、とてもお腹が空いたから何か_____。」\n",
        "\n",
        "#解答：忘却ゲート"
      ],
      "execution_count": null,
      "outputs": []
    }
  ]
}