{
  "nbformat": 4,
  "nbformat_minor": 0,
  "metadata": {
    "colab": {
      "name": "20210629NNDay1誤差逆伝播確認テスト.ipynb",
      "provenance": [],
      "collapsed_sections": [],
      "mount_file_id": "1X222oh4R7BJOrOZ9qOpBZ0EBFql3lGir",
      "authorship_tag": "ABX9TyOOgoFSMfymen6lNneTy0yi",
      "include_colab_link": true
    },
    "kernelspec": {
      "name": "python3",
      "display_name": "Python 3"
    },
    "language_info": {
      "name": "python"
    }
  },
  "cells": [
    {
      "cell_type": "markdown",
      "metadata": {
        "id": "view-in-github",
        "colab_type": "text"
      },
      "source": [
        "<a href=\"https://colab.research.google.com/github/MasahitoKatsuki/RabbitChallenge/blob/main/20210629NNDay1%E8%AA%A4%E5%B7%AE%E9%80%86%E4%BC%9D%E6%92%AD%E7%A2%BA%E8%AA%8D%E3%83%86%E3%82%B9%E3%83%88.ipynb\" target=\"_parent\"><img src=\"https://colab.research.google.com/assets/colab-badge.svg\" alt=\"Open In Colab\"/></a>"
      ]
    },
    {
      "cell_type": "code",
      "metadata": {
        "id": "ccZqKWz0wJb9"
      },
      "source": [
        "#テスト1　誤差逆伝播法では不要な再帰的処理を避ける事が出来る。既に行った計算結果を保持しているソースコードを抽出せよ。\n",
        "\n",
        "# 出力層でのデルタ\n",
        "delta2 = functions.d_mean_squared_error(d, y) #これが最も最後の出力と実際の値との誤差関数を微分したもの\n",
        "\n",
        "# 出力層でのデルタ\n",
        "delta2 = functions.d_mean_squared_error(d, y)　#このdelta2を、パラメータを求めるのに用いる\n",
        "# b2の勾配\n",
        "grad['b2'] = np.sum(delta2, axis=0)　#バイアスを計算\n",
        "# W2の勾配\n",
        "grad['W2'] = np.dot(z1.T, delta2)　#重みの計算\n",
        "# 中間層でのデルタ\n",
        "delta1 = np.dot(delta2, W2.T) * functions.d_relu(z1)　\n",
        "#ここで、delta2を用いて、更にその1つ前のrelu関数を微分したものとかけて、中間層の誤差delta1を連鎖律のように計算している。こここそが誤差逆伝播法の計算を実際に行ってるところである。\n"
      ],
      "execution_count": null,
      "outputs": []
    },
    {
      "cell_type": "code",
      "metadata": {
        "id": "qVKBiTQd3bw1"
      },
      "source": [
        "#テスト2　それぞれの式をコードでかけ\n",
        "#dE/dy\n",
        "delta2 = functions.d_mean_squared_error(d, y)\n",
        "#dE/dy * dy/du\n",
        "delta1 = np.dot(delta2, W2.T) * functions.d_relu(z1)　\n",
        "#dE/dy * dy/du * du/dw\n",
        "grad['W1'] = np.dot(x.T, delta1)\n"
      ],
      "execution_count": null,
      "outputs": []
    },
    {
      "cell_type": "code",
      "metadata": {
        "id": "FDmWuY_s4izl"
      },
      "source": [
        ""
      ],
      "execution_count": null,
      "outputs": []
    },
    {
      "cell_type": "code",
      "metadata": {
        "id": "V10EZCNg9dEM"
      },
      "source": [
        ""
      ],
      "execution_count": null,
      "outputs": []
    }
  ]
}