{
  "nbformat": 4,
  "nbformat_minor": 0,
  "metadata": {
    "colab": {
      "name": "20210704NNDay2学習率最適化手法テスト.ipynb",
      "provenance": [],
      "collapsed_sections": [],
      "mount_file_id": "1X222oh4R7BJOrOZ9qOpBZ0EBFql3lGir",
      "authorship_tag": "ABX9TyOLZKUXABlTTGDm5dU0Gz/x",
      "include_colab_link": true
    },
    "kernelspec": {
      "name": "python3",
      "display_name": "Python 3"
    },
    "language_info": {
      "name": "python"
    }
  },
  "cells": [
    {
      "cell_type": "markdown",
      "metadata": {
        "id": "view-in-github",
        "colab_type": "text"
      },
      "source": [
        "<a href=\"https://colab.research.google.com/github/MasahitoKatsuki/RabbitChallenge/blob/main/20210704NNDay2%E5%AD%A6%E7%BF%92%E7%8E%87%E6%9C%80%E9%81%A9%E5%8C%96%E6%89%8B%E6%B3%95%E3%83%86%E3%82%B9%E3%83%88.ipynb\" target=\"_parent\"><img src=\"https://colab.research.google.com/assets/colab-badge.svg\" alt=\"Open In Colab\"/></a>"
      ]
    },
    {
      "cell_type": "markdown",
      "metadata": {
        "id": "wrOnJ742kxCZ"
      },
      "source": [
        "モメンタム・AdaGrad・RMSPropの特徴をそれぞれ簡潔に説明せよ。\n",
        "\n",
        "解答：\n",
        "\n",
        "モメンタムのメリット：局所的最適解にはならず、大域的最適解となる。\n",
        "谷間についてから最も低い位置(最適値)にいくまでの時間が早い。なぜなら前回の重みを使って学習率が決まっていくので、後半になり収束は速くなるから。\n",
        "\n",
        "AdaGradのメリット：勾配の緩やかな斜面に対して、最適値に近づける。\n",
        "デメリット：学習率が徐々に小さくなるので、鞍点問題を引き起こし、大局的最適解に至らないことがある。\n",
        "\n",
        "RMSPropのメリット\n",
        "局所的最適解にはならず、大域的最適解となる。\n",
        "ハイパーパラメータの調整が必要な場合が少ない(AdaGradではθによって値が大きく変わる)。"
      ]
    }
  ]
}