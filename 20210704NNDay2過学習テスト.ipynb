{
  "nbformat": 4,
  "nbformat_minor": 0,
  "metadata": {
    "colab": {
      "name": "20210704NNDay2過学習テスト.ipynb",
      "provenance": [],
      "collapsed_sections": [],
      "mount_file_id": "1X222oh4R7BJOrOZ9qOpBZ0EBFql3lGir",
      "authorship_tag": "ABX9TyMIMMcUi7ZgzF7vY4yMApwP",
      "include_colab_link": true
    },
    "kernelspec": {
      "name": "python3",
      "display_name": "Python 3"
    },
    "language_info": {
      "name": "python"
    }
  },
  "cells": [
    {
      "cell_type": "markdown",
      "metadata": {
        "id": "view-in-github",
        "colab_type": "text"
      },
      "source": [
        "<a href=\"https://colab.research.google.com/github/MasahitoKatsuki/RabbitChallenge/blob/main/20210704NNDay2%E9%81%8E%E5%AD%A6%E7%BF%92%E3%83%86%E3%82%B9%E3%83%88.ipynb\" target=\"_parent\"><img src=\"https://colab.research.google.com/assets/colab-badge.svg\" alt=\"Open In Colab\"/></a>"
      ]
    },
    {
      "cell_type": "markdown",
      "metadata": {
        "id": "wrOnJ742kxCZ"
      },
      "source": [
        "問題1機械学習で使われる線形モデル(線形回帰、主成分分析・・・etc)の正則化は、モデルの重みを制限することで可能となる。\n",
        "前述の線形モデルの正則化手法の中にリッジ回帰という手法があり、その特徴として正しいものを選択しなさい。\n",
        "\n",
        "(a) ハイパーパラメータを大きな値に設定すると、すべての重みが限りなく0に近づく\n",
        "\n",
        "(b) パイパーパラメータを 0 に設定すると、非線形回帰となる\n",
        "\n",
        "(c) バイアス項についても、正則化される\n",
        "\n",
        "(d) リッジ回帰の場合、隠れ層に対して正則化項を加える\n",
        "\n",
        "解答：\n",
        "\n",
        "(a)\n",
        "勾配を計算するのに正則化項にかけた係数をかけた値を引き算するわけだがら係数を大きくすれば0に近づいてしまう。"
      ]
    },
    {
      "cell_type": "markdown",
      "metadata": {
        "id": "pzJRVr0j3Z87"
      },
      "source": [
        "問題2下図について、L1正則化を表しているグラフはどちらか答えよ。\n",
        "\n",
        "L1正則化はp1 ノルムであり、マンハッタン距離であるからダイヤモンド型の図形となる。なので右の図形。"
      ]
    }
  ]
}