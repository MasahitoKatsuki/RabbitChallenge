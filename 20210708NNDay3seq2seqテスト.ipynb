{
  "nbformat": 4,
  "nbformat_minor": 0,
  "metadata": {
    "colab": {
      "name": "20210708NNDay3seq2seqテスト.ipynb",
      "provenance": [],
      "collapsed_sections": [
        "gI1XRYFuOMxK",
        "KbZYflUP2cAc"
      ],
      "mount_file_id": "1X222oh4R7BJOrOZ9qOpBZ0EBFql3lGir",
      "authorship_tag": "ABX9TyN7dzXA3Kj3yuDon0M7KIPM",
      "include_colab_link": true
    },
    "kernelspec": {
      "name": "python3",
      "display_name": "Python 3"
    },
    "language_info": {
      "name": "python"
    }
  },
  "cells": [
    {
      "cell_type": "markdown",
      "metadata": {
        "id": "view-in-github",
        "colab_type": "text"
      },
      "source": [
        "<a href=\"https://colab.research.google.com/github/MasahitoKatsuki/RabbitChallenge/blob/main/20210708NNDay3seq2seq%E3%83%86%E3%82%B9%E3%83%88.ipynb\" target=\"_parent\"><img src=\"https://colab.research.google.com/assets/colab-badge.svg\" alt=\"Open In Colab\"/></a>"
      ]
    },
    {
      "cell_type": "markdown",
      "metadata": {
        "id": "gI1XRYFuOMxK"
      },
      "source": [
        "#テスト１　Seq2Seqについて説明しているものを選べ\n",
        "（１）時刻に関して順方向と逆方向のＲＮＮを構成し、それら２つの中間層表現を特徴量として利用するものである。\n",
        "\n",
        "（２）ＲＮＮを用いたＥｎｃｏｄｅｒ－Ｄｅｃｏｄｅｒモデルの一種であり、機械翻訳などのモデルに使われる。\n",
        "\n",
        "（３）構文木などの木構造に対して、隣接単語から表現ベクトル（フレーズ）を作るという演算を再帰的に行い（重みは共通）、文全体の表現ベクトルを得るニューラルネットワークである。\n",
        "\n",
        "（４）ＲＮＮの一種であり、単純なＲＮＮにおいて問題となる勾配消失問題をＣＥＣとゲートの概念を導入することで解決したものである。\n",
        "\n",
        "\n",
        "解答：（２）\n",
        "\n",
        "（１）双方向ＲＮＮ\n",
        "（３）構文木\n",
        "（４）ＬＳＴＭ\n"
      ]
    },
    {
      "cell_type": "markdown",
      "metadata": {
        "id": "KbZYflUP2cAc"
      },
      "source": [
        "#テスト2　Seq2SeqとHRED、HREDとVHREDの違いを簡潔に述べよ。\n",
        "\n",
        "Seq2SeqとHRED：Seq2Seqは一問一答しかできない(問に対して文脈も何もなく、ただ応答が行われ続ける)\n",
        "が、HREDは過去n−1個の発話から文脈に応じた回答ができる。\n",
        "\n",
        "HREDとVHRED：HREDは発話に多様性がなく情報量に乏しいが(うん、そうだねなど単調になる)\n",
        "、VHREDはそれらの課題を解決し、文脈を保持しながら多様性ある発話ができる。"
      ]
    },
    {
      "cell_type": "markdown",
      "metadata": {
        "id": "JSIGv5N_2kEG"
      },
      "source": [
        "#テスト3\n",
        "VAEに関する下記の説明文中の空欄に当てはまる言葉を答えよ。\n",
        "\n",
        "ＶＡＥに関する下記の説明文中の空欄に当てはまる言葉を答えよ。自己符号化器の潜在変数に____を導入したもの。\n",
        "\n",
        "確率分布"
      ]
    },
    {
      "cell_type": "code",
      "metadata": {
        "id": "w2lHqm8A2luG"
      },
      "source": [
        ""
      ],
      "execution_count": null,
      "outputs": []
    }
  ]
}